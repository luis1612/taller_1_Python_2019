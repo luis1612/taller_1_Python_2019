{
 "cells": [
  {
   "cell_type": "code",
   "execution_count": 103,
   "metadata": {
    "scrolled": false
   },
   "outputs": [],
   "source": [
    "from bs4 import BeautifulSoup\n",
    "import pandas as pd\n",
    "import requests\n",
    "import matplotlib.pyplot as plt\n",
    "import numpy  as np"
   ]
  },
  {
   "cell_type": "code",
   "execution_count": 104,
   "metadata": {},
   "outputs": [],
   "source": [
    "url = 'https://www.espn.com.co/futbol/posiciones/_/liga/fifa.world'"
   ]
  },
  {
   "cell_type": "code",
   "execution_count": 105,
   "metadata": {},
   "outputs": [],
   "source": [
    "page = requests.get(url)"
   ]
  },
  {
   "cell_type": "code",
   "execution_count": 106,
   "metadata": {},
   "outputs": [],
   "source": [
    "soup = BeautifulSoup(page.content,'html.parser')"
   ]
  },
  {
   "cell_type": "code",
   "execution_count": 107,
   "metadata": {},
   "outputs": [],
   "source": [
    "#nombres\n",
    "ju = soup.find_all('span',class_='hide-mobile')"
   ]
  },
  {
   "cell_type": "code",
   "execution_count": 108,
   "metadata": {},
   "outputs": [],
   "source": [
    "nombre = list()"
   ]
  },
  {
   "cell_type": "code",
   "execution_count": 109,
   "metadata": {},
   "outputs": [
    {
     "name": "stdout",
     "output_type": "stream",
     "text": [
      "['Uruguay', 'Rusia', 'Arabia Saudita', 'Egipto', 'España', 'Portugal', 'Irán', 'Marruecos', 'Francia', 'Dinamarca', 'Perú', 'Australia', 'Croacia', 'Argentina', 'Nigeria', 'Islandia', 'Brasil', 'Suiza', 'Serbia', 'Costa Rica', 'Suecia', 'México', 'Corea del Sur', 'Alemania', 'Bélgica', 'Inglaterra', 'Túnez', 'Panamá', 'Colombia', 'Japón', 'Senegal', 'Polonia'] 32\n"
     ]
    }
   ],
   "source": [
    "count = 0\n",
    "\n",
    "for i in ju:\n",
    "    if count < 32:\n",
    "        nombre.append(i.text)\n",
    "    else:\n",
    "        break\n",
    "        \n",
    "    count += 1\n",
    "    \n",
    "print(nombre, len(nombre))"
   ]
  },
  {
   "cell_type": "code",
   "execution_count": 110,
   "metadata": {},
   "outputs": [],
   "source": [
    "#puntuacio\n",
    "pu = soup.find_all('span',class_='stat-cell')"
   ]
  },
  {
   "cell_type": "code",
   "execution_count": 111,
   "metadata": {},
   "outputs": [],
   "source": [
    "puntos = list()"
   ]
  },
  {
   "cell_type": "code",
   "execution_count": 112,
   "metadata": {},
   "outputs": [
    {
     "name": "stdout",
     "output_type": "stream",
     "text": [
      "['3', '3', '0', '0', '5', '0', '+5', '9', '3', '2', '0', '1', '8', '4', '+4', '6', '3', '1', '0', '2', '2', '7', '-5', '3', '3', '0', '0', '3', '2', '6', '-4', '0'] 32\n"
     ]
    }
   ],
   "source": [
    "count = 0\n",
    "\n",
    "for i in pu:\n",
    "    if count < 32:\n",
    "        puntos.append(i.text)\n",
    "    else:\n",
    "        break\n",
    "        \n",
    "    count += 1\n",
    "    \n",
    "print(puntos, len(puntos))"
   ]
  },
  {
   "cell_type": "code",
   "execution_count": 113,
   "metadata": {},
   "outputs": [],
   "source": [
    "#numero de partidos\n",
    "nup = soup.find_all('span',title_='Número de partidos jugados')"
   ]
  },
  {
   "cell_type": "code",
   "execution_count": 114,
   "metadata": {},
   "outputs": [],
   "source": [
    "num_partidos = list()"
   ]
  },
  {
   "cell_type": "code",
   "execution_count": 115,
   "metadata": {},
   "outputs": [
    {
     "name": "stdout",
     "output_type": "stream",
     "text": [
      "['3', '3', '0', '0', '5', '0', '+5', '9', '3', '2', '0', '1', '8', '4', '+4', '6', '3', '1', '0', '2', '2', '7', '-5', '3', '3', '0', '0', '3', '2', '6', '-4', '0'] 32\n"
     ]
    }
   ],
   "source": [
    "count = 0\n",
    "\n",
    "for i in pu:\n",
    "    if count < 32:\n",
    "        num_partidos.append(i.text)\n",
    "    else:\n",
    "        break\n",
    "        \n",
    "    count += 1\n",
    "    \n",
    "print(num_partidos, len(num_partidos))"
   ]
  },
  {
   "cell_type": "code",
   "execution_count": null,
   "metadata": {},
   "outputs": [],
   "source": []
  },
  {
   "cell_type": "code",
   "execution_count": 116,
   "metadata": {},
   "outputs": [
    {
     "name": "stdout",
     "output_type": "stream",
     "text": [
      "            Nombre Puntos Numero_partidos\n",
      "1          Uruguay      3               3\n",
      "2            Rusia      3               3\n",
      "3   Arabia Saudita      0               0\n",
      "4           Egipto      0               0\n",
      "5           España      5               5\n",
      "6         Portugal      0               0\n",
      "7             Irán     +5              +5\n",
      "8        Marruecos      9               9\n",
      "9          Francia      3               3\n",
      "10       Dinamarca      2               2\n",
      "11            Perú      0               0\n",
      "12       Australia      1               1\n",
      "13         Croacia      8               8\n",
      "14       Argentina      4               4\n",
      "15         Nigeria     +4              +4\n",
      "16        Islandia      6               6\n",
      "17          Brasil      3               3\n",
      "18           Suiza      1               1\n",
      "19          Serbia      0               0\n",
      "20      Costa Rica      2               2\n",
      "21          Suecia      2               2\n",
      "22          México      7               7\n",
      "23   Corea del Sur     -5              -5\n",
      "24        Alemania      3               3\n",
      "25         Bélgica      3               3\n",
      "26      Inglaterra      0               0\n",
      "27           Túnez      0               0\n",
      "28          Panamá      3               3\n",
      "29        Colombia      2               2\n",
      "30           Japón      6               6\n",
      "31         Senegal     -4              -4\n",
      "32         Polonia      0               0 32\n"
     ]
    }
   ],
   "source": [
    "df = pd.DataFrame({'Nombre':nombre,'Puntos':puntos,'Numero_partidos':num_partidos}, index=list(range(1,33)))\n",
    "#new_datos = datos.replace(np.,0)\n",
    "#new_datos\n",
    "print(df,len(df))"
   ]
  },
  {
   "cell_type": "code",
   "execution_count": 117,
   "metadata": {},
   "outputs": [],
   "source": [
    "df.to_csv('lugares.csv', index=False)\n",
    "datos = pd.read_csv('lugares.csv')\n",
    "df = pd.DataFrame(datos)"
   ]
  },
  {
   "cell_type": "code",
   "execution_count": 118,
   "metadata": {},
   "outputs": [
    {
     "data": {
      "text/html": [
       "<div>\n",
       "<style scoped>\n",
       "    .dataframe tbody tr th:only-of-type {\n",
       "        vertical-align: middle;\n",
       "    }\n",
       "\n",
       "    .dataframe tbody tr th {\n",
       "        vertical-align: top;\n",
       "    }\n",
       "\n",
       "    .dataframe thead th {\n",
       "        text-align: right;\n",
       "    }\n",
       "</style>\n",
       "<table border=\"1\" class=\"dataframe\">\n",
       "  <thead>\n",
       "    <tr style=\"text-align: right;\">\n",
       "      <th></th>\n",
       "      <th>Nombre</th>\n",
       "      <th>Puntos</th>\n",
       "      <th>Numero_partidos</th>\n",
       "    </tr>\n",
       "  </thead>\n",
       "  <tbody>\n",
       "    <tr>\n",
       "      <td>0</td>\n",
       "      <td>Uruguay</td>\n",
       "      <td>3</td>\n",
       "      <td>3</td>\n",
       "    </tr>\n",
       "    <tr>\n",
       "      <td>1</td>\n",
       "      <td>Rusia</td>\n",
       "      <td>3</td>\n",
       "      <td>3</td>\n",
       "    </tr>\n",
       "    <tr>\n",
       "      <td>2</td>\n",
       "      <td>Arabia Saudita</td>\n",
       "      <td>0</td>\n",
       "      <td>0</td>\n",
       "    </tr>\n",
       "    <tr>\n",
       "      <td>3</td>\n",
       "      <td>Egipto</td>\n",
       "      <td>0</td>\n",
       "      <td>0</td>\n",
       "    </tr>\n",
       "    <tr>\n",
       "      <td>4</td>\n",
       "      <td>España</td>\n",
       "      <td>5</td>\n",
       "      <td>5</td>\n",
       "    </tr>\n",
       "  </tbody>\n",
       "</table>\n",
       "</div>"
      ],
      "text/plain": [
       "           Nombre  Puntos  Numero_partidos\n",
       "0         Uruguay       3                3\n",
       "1           Rusia       3                3\n",
       "2  Arabia Saudita       0                0\n",
       "3          Egipto       0                0\n",
       "4          España       5                5"
      ]
     },
     "execution_count": 118,
     "metadata": {},
     "output_type": "execute_result"
    }
   ],
   "source": [
    "df.iloc[0:5]"
   ]
  },
  {
   "cell_type": "code",
   "execution_count": 162,
   "metadata": {},
   "outputs": [
    {
     "data": {
      "text/html": [
       "<div>\n",
       "<style scoped>\n",
       "    .dataframe tbody tr th:only-of-type {\n",
       "        vertical-align: middle;\n",
       "    }\n",
       "\n",
       "    .dataframe tbody tr th {\n",
       "        vertical-align: top;\n",
       "    }\n",
       "\n",
       "    .dataframe thead th {\n",
       "        text-align: right;\n",
       "    }\n",
       "</style>\n",
       "<table border=\"1\" class=\"dataframe\">\n",
       "  <thead>\n",
       "    <tr style=\"text-align: right;\">\n",
       "      <th></th>\n",
       "      <th>Nombre</th>\n",
       "      <th>Puntos</th>\n",
       "      <th>Numero_partidos</th>\n",
       "    </tr>\n",
       "  </thead>\n",
       "  <tbody>\n",
       "    <tr>\n",
       "      <td>0</td>\n",
       "      <td>Uruguay</td>\n",
       "      <td>3</td>\n",
       "      <td>3</td>\n",
       "    </tr>\n",
       "    <tr>\n",
       "      <td>1</td>\n",
       "      <td>Rusia</td>\n",
       "      <td>3</td>\n",
       "      <td>3</td>\n",
       "    </tr>\n",
       "    <tr>\n",
       "      <td>2</td>\n",
       "      <td>Arabia Saudita</td>\n",
       "      <td>0</td>\n",
       "      <td>0</td>\n",
       "    </tr>\n",
       "    <tr>\n",
       "      <td>3</td>\n",
       "      <td>Egipto</td>\n",
       "      <td>0</td>\n",
       "      <td>0</td>\n",
       "    </tr>\n",
       "    <tr>\n",
       "      <td>4</td>\n",
       "      <td>España</td>\n",
       "      <td>5</td>\n",
       "      <td>5</td>\n",
       "    </tr>\n",
       "    <tr>\n",
       "      <td>5</td>\n",
       "      <td>Portugal</td>\n",
       "      <td>0</td>\n",
       "      <td>0</td>\n",
       "    </tr>\n",
       "  </tbody>\n",
       "</table>\n",
       "</div>"
      ],
      "text/plain": [
       "           Nombre  Puntos  Numero_partidos\n",
       "0         Uruguay       3                3\n",
       "1           Rusia       3                3\n",
       "2  Arabia Saudita       0                0\n",
       "3          Egipto       0                0\n",
       "4          España       5                5\n",
       "5        Portugal       0                0"
      ]
     },
     "execution_count": 162,
     "metadata": {},
     "output_type": "execute_result"
    }
   ],
   "source": [
    "sd = df.iloc[0:6]\n",
    "sd"
   ]
  },
  {
   "cell_type": "code",
   "execution_count": 165,
   "metadata": {},
   "outputs": [
    {
     "data": {
      "image/png": "[encoded data removed]",
      "text/plain": [
       "<Figure size 432x288 with 1 Axes>"
      ]
     },
     "metadata": {
      "needs_background": "light"
     },
     "output_type": "display_data"
    }
   ],
   "source": [
    "plt.bar(sd['Nombre'], sd['Puntos'], color=\"blue\")\n",
    "plt.ylabel('Puntos')\n",
    "plt.xlabel('Equipos')\n",
    "plt.show()"
   ]
  },
  {
   "cell_type": "code",
   "execution_count": 166,
   "metadata": {},
   "outputs": [
    {
     "data": {
      "text/plain": [
       "0     3\n",
       "1     3\n",
       "2     0\n",
       "3     0\n",
       "4     5\n",
       "5     0\n",
       "6     5\n",
       "7     9\n",
       "8     3\n",
       "9     2\n",
       "10    0\n",
       "11    1\n",
       "12    8\n",
       "13    4\n",
       "14    4\n",
       "15    6\n",
       "16    3\n",
       "17    1\n",
       "18    0\n",
       "19    2\n",
       "20    2\n",
       "21    7\n",
       "22    5\n",
       "23    3\n",
       "24    3\n",
       "25    0\n",
       "26    0\n",
       "27    3\n",
       "28    2\n",
       "29    6\n",
       "30    4\n",
       "31    0\n",
       "Name: Numero_partidos, dtype: int32"
      ]
     },
     "execution_count": 166,
     "metadata": {},
     "output_type": "execute_result"
    }
   ],
   "source": [
    "puntos = df['Puntos'].astype(int).abs()\n",
    "num_partidos = df['Numero_partidos'].astype(int).abs()\n",
    "\n",
    "num_partidos"
   ]
  },
  {
   "cell_type": "code",
   "execution_count": null,
   "metadata": {},
   "outputs": [],
   "source": []
  }
 ],
 "metadata": {
  "kernelspec": {
   "display_name": "Python 3",
   "language": "python",
   "name": "python3"
  },
  "language_info": {
   "codemirror_mode": {
    "name": "ipython",
    "version": 3
   },
   "file_extension": ".py",
   "mimetype": "text/x-python",
   "name": "python",
   "nbconvert_exporter": "python",
   "pygments_lexer": "ipython3",
   "version": "3.7.1"
  }
 },
 "nbformat": 4,
 "nbformat_minor": 2
}
